{
 "cells": [
  {
   "cell_type": "markdown",
   "metadata": {
    "collapsed": true
   },
   "source": [
    "# Chapter 1: Introduction"
   ]
  },
  {
   "cell_type": "markdown",
   "metadata": {},
   "source": [
    "## Overview"
   ]
  },
  {
   "cell_type": "markdown",
   "metadata": {},
   "source": [
    "- `mongod` process - database server itself\n",
    "- mongo shell - `mongod` client"
   ]
  },
  {
   "cell_type": "markdown",
   "metadata": {},
   "source": [
    "## JSON"
   ]
  },
  {
   "cell_type": "markdown",
   "metadata": {},
   "source": [
    "Types:\n",
    "\n",
    "- string\n",
    "- number\n",
    "- boolean\n",
    "- array\n",
    "- object"
   ]
  },
  {
   "cell_type": "markdown",
   "metadata": {},
   "source": [
    "## BSON"
   ]
  },
  {
   "cell_type": "markdown",
   "metadata": {},
   "source": [
    "BSON - binary JSON"
   ]
  },
  {
   "cell_type": "markdown",
   "metadata": {},
   "source": [
    "MongoDB uses BSON and drivers convert it to native data types. BSON was developed as:\n",
    "\n",
    "- lightweight\n",
    "- traversable\n",
    "- efficient\n",
    "\n",
    "Extends JSON to store:\n",
    "\n",
    "- integers\n",
    "- binary data\n",
    "- doubles\n",
    "- dates"
   ]
  },
  {
   "cell_type": "markdown",
   "metadata": {
    "collapsed": true
   },
   "source": [
    "## CRUD"
   ]
  },
  {
   "cell_type": "markdown",
   "metadata": {},
   "source": [
    "Documents are stored in collections, collections organised into databases.\n",
    "\n",
    "- `help` - list of available commands\n",
    "- `show dbs` - show current databases\n",
    "\n",
    "Collection and it's database form a namespace.\n",
    "\n",
    "- `use video` to start using given database\n",
    "\n",
    "If `video` database does not exist mongo will create it upon first document appending.\n",
    "\n",
    "- `db.movies.insertOne({\"title\": \"Jaws\", \"year\": 1975, \"imdb\": \"tt0073195\"})` - add new document\n",
    "- `_id` field auto added to the document (if not specified by user)\n",
    "- `db.movies.find()` - find all documents inside movies collection\n",
    "- `db.movies.find().pretty()` - change format to a pretty one\n",
    "- `db.movies.findOne()` - find first item in collection"
   ]
  },
  {
   "cell_type": "markdown",
   "metadata": {},
   "source": [
    "### Query By Example"
   ]
  },
  {
   "cell_type": "markdown",
   "metadata": {},
   "source": [
    "- `db.movies.find({})` - all\n",
    "- `db.movies.find({\"title\": \"Jaws\"})` - by title\n",
    "- `db.movies.find({\"year\": 1981})` - by year"
   ]
  },
  {
   "cell_type": "markdown",
   "metadata": {},
   "source": [
    "### Shell"
   ]
  },
  {
   "cell_type": "markdown",
   "metadata": {},
   "source": [
    "Shell is a fully functional JS interpreter.\n",
    "\n",
    "```\n",
    "var c = db.movies.find()\n",
    "c.hasNext()\n",
    "c.next()\n",
    "```"
   ]
  },
  {
   "cell_type": "markdown",
   "metadata": {},
   "source": [
    "### Modify Data"
   ]
  },
  {
   "cell_type": "markdown",
   "metadata": {},
   "source": [
    "```js\n",
    "var movie = db.movies.findOne()\n",
    "movie.title = \"Test\"\n",
    "db.movies.save(movie)\n",
    "```"
   ]
  }
 ],
 "metadata": {
  "kernelspec": {
   "display_name": "Python 3",
   "language": "python",
   "name": "python3"
  },
  "language_info": {
   "codemirror_mode": {
    "name": "ipython",
    "version": 3.0
   },
   "file_extension": ".py",
   "mimetype": "text/x-python",
   "name": "python",
   "nbconvert_exporter": "python",
   "pygments_lexer": "ipython3",
   "version": "3.5.2"
  }
 },
 "nbformat": 4,
 "nbformat_minor": 0
}